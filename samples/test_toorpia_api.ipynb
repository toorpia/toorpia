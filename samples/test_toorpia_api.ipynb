{
 "cells": [
  {
   "cell_type": "markdown",
   "metadata": {
    "id": "UOdg68EYbheh"
   },
   "source": [
    "# toorPIA APIテスト用ノートブック\n",
    "\n",
    "本ノートブックはGoogle Colabで実行できるように作成されています。\n",
    "\n",
    "サンプルデータ（`biopsy.csv`、`biopsy-add.csv`）は自動的にGitHubから取得されます。"
   ]
  },
  {
   "cell_type": "markdown",
   "metadata": {
    "id": "DvcJ0M4BcN2l"
   },
   "source": [
    "## toorPIA APIライブラリのインストール\n",
    "\n",
    "Google Colabでは、以下のセルを実行してtoorPIA APIライブラリをインストールしてください。\n",
    "他のpip環境でも同様にインストール可能です。"
   ]
  },
  {
   "cell_type": "code",
   "execution_count": null,
   "metadata": {
    "id": "3GYwYVJRXAHI"
   },
   "outputs": [],
   "source": [
    "!pip install git+https://github.com/toorpia/toorpia.git"
   ]
  },
  {
   "cell_type": "markdown",
   "metadata": {},
   "source": "## APIキーの設定方法\n\n次にAPIキーを設定します。以下の優先順位で自動的に設定されます：\n\n### 方法1: Google Colab Secrets機能の使用（推奨、Colab環境）\n1. 左側のパネルから🔑（鍵マーク）をクリック\n2. 「新しいシークレット」をクリック\n3. 名前に `TOORPIA_API_KEY`、値に実際のAPIキーを入力\n4. 保存\n\n### 方法2: 既存の環境変数を使用（ローカル環境）\n事前にターミナルで以下を実行しておくと、自動的に読み込まれます：\n```bash\nexport TOORPIA_API_KEY=\"your_actual_api_key\"\n```\n\n### 方法3: コードに直接記述\n上記が利用できない場合、次のセルの `'Valid_API_KEY'` を実際のAPIキーに置き換えてください。"
  },
  {
   "cell_type": "code",
   "execution_count": null,
   "metadata": {
    "id": "GYDZ4Qkes_pk"
   },
   "outputs": [],
   "source": "# APIキーの設定\nimport os\n\n# 方法1: Google Colab Secrets機能を使用（推奨）\ntry:\n    from google.colab import userdata\n    api_key = userdata.get('TOORPIA_API_KEY')\n    os.environ['TOORPIA_API_KEY'] = api_key\n    print(\"Google Colab SecretsからAPIキーを設定しました\")\nexcept:\n    # 方法2: 既存の環境変数をチェック\n    if 'TOORPIA_API_KEY' in os.environ and os.environ['TOORPIA_API_KEY']:\n        print(\"既存の環境変数からAPIキーを読み込みました\")\n    else:\n        # 方法3: 環境変数で直接設定\n        os.environ['TOORPIA_API_KEY'] = 'Valid_API_KEY'  # ここに実際のAPIキーを入力\n        print(\"環境変数にAPIキーを設定しました\")\n        print(\"注意: 実際のAPIキーに置き換えてください\")"
  },
  {
   "cell_type": "markdown",
   "metadata": {
    "id": "Vgk1vujscnkt"
   },
   "source": [
    "## toorPIAライブラリの初期化\n",
    "\n",
    "APIキー設定後、toorPIAクライアントを初期化します。"
   ]
  },
  {
   "cell_type": "code",
   "execution_count": null,
   "metadata": {
    "id": "wlx38zyuXcoh"
   },
   "outputs": [],
   "source": [
    "from toorpia import toorPIA\n",
    "\n",
    "try:\n",
    "    tp = toorPIA()\n",
    "    print(\"toorPIA クライアントの初期化が完了しました\")\n",
    "except Exception as e:\n",
    "    print(f\"エラー: {e}\")\n",
    "    print(\"APIキーが正しく設定されているか確認してください\")"
   ]
  },
  {
   "cell_type": "markdown",
   "metadata": {
    "id": "EKlIGlU4eIXD"
   },
   "source": [
    "## toorPIA APIによる解析例\n",
    "\n",
    "ここでは、`biopsy.csv`を用いてtoorPIAのベースマップを作成し、そのあと、このベースマップに対して`biopsy-add.csv`を追加プロットする方法を例示します。"
   ]
  },
  {
   "cell_type": "markdown",
   "metadata": {
    "id": "d2yYWLCAedOb"
   },
   "source": [
    "### サンプルデータの読み込み\n",
    "\n",
    "toorPIA APIは、pandasのDataFrame形式のデータを解析できます。\n",
    "サンプルデータはGitHubから自動的に取得され、解析に不要な項目（No, ID, Diagnosis）は除外されます。"
   ]
  },
  {
   "cell_type": "code",
   "execution_count": null,
   "metadata": {
    "id": "zLeRX58mZBQD"
   },
   "outputs": [],
   "source": [
    "import pandas as pd\n",
    "\n",
    "# GitHubから直接データを読み込み\n",
    "try:\n",
    "    df = pd.read_csv('https://raw.githubusercontent.com/toorpia/toorpia/master/samples/biopsy.csv')\n",
    "    df = df.drop(columns=[\"No\", \"ID\", \"Diagnosis\"])\n",
    "    print(\"データの読み込みが完了しました\")\n",
    "    df\n",
    "except Exception as e:\n",
    "    print(f\"データの読み込みに失敗しました: {e}\")\n",
    "    print(\"インターネット接続を確認してください\")"
   ]
  },
  {
   "cell_type": "markdown",
   "metadata": {
    "id": "NYuZM63ve9sq"
   },
   "source": [
    "### `fit_transform()`関数によるベースマップ作成\n",
    "\n",
    "次のセルのように実行することでベースマップを作成することができます。\n",
    "返り値はNumPy Array形式で、ここにベースマップの座標値が含まれます。"
   ]
  },
  {
   "cell_type": "code",
   "execution_count": null,
   "metadata": {
    "id": "YBQEmcmlZTG1"
   },
   "outputs": [],
   "source": [
    "res = tp.fit_transform(df)\n",
    "res"
   ]
  },
  {
   "cell_type": "code",
   "execution_count": null,
   "metadata": {},
   "outputs": [],
   "source": [
    "# ベースマップのshareURLを表示\n",
    "if hasattr(tp, 'shareUrl') and tp.shareUrl:\n",
    "    from IPython.display import display, HTML\n",
    "    print(\"ベースマップの共有URL:\")\n",
    "    display(HTML(f'<a href=\"{tp.shareUrl}\" target=\"_blank\">{tp.shareUrl}</a>'))\n",
    "else:\n",
    "    print(\"ShareURLが取得できませんでした\")"
   ]
  },
  {
   "cell_type": "markdown",
   "metadata": {
    "id": "jBY1WyrJfS4U"
   },
   "source": [
    "### ベースマップのプロット\n",
    "\n",
    "`matplotlib`を用いてベースマップのプロットを作成してみます。"
   ]
  },
  {
   "cell_type": "code",
   "execution_count": null,
   "metadata": {
    "id": "QEQ2s6eZZz9A"
   },
   "outputs": [],
   "source": [
    "import matplotlib.pyplot as plt\n",
    "\n",
    "plt.scatter(res[:,0], res[:,1])\n",
    "plt.show()"
   ]
  },
  {
   "cell_type": "markdown",
   "metadata": {
    "id": "dw2npUEufdZi"
   },
   "source": [
    "### 追加プロットの作成\n",
    "\n",
    "追加プロットデータもGitHubから自動取得し、先ほど生成したベースマップに対してプロットします。"
   ]
  },
  {
   "cell_type": "code",
   "source": "# 追加プロットデータをGitHubから直接読み込み\ntry:\n    df_add = pd.read_csv('https://raw.githubusercontent.com/toorpia/toorpia/master/samples/biopsy-add.csv')\n    df_add = df_add.drop(columns=[\"No\", \"ID\", \"Diagnosis\"])\n    print(\"追加プロットデータの読み込みが完了しました\")\n    df_add\nexcept Exception as e:\n    print(f\"追加プロットデータの読み込みに失敗しました: {e}\")\n    print(\"インターネット接続を確認してください\")",
   "metadata": {},
   "execution_count": null,
   "outputs": []
  },
  {
   "cell_type": "markdown",
   "metadata": {
    "id": "E8b62WkRZ-Mu"
   },
   "source": [
    "次のセルにあるとおり`addplot()`メソッドで追加プロットを作成することができます。\n",
    "結果には座標データの他に、異常度判定情報も含まれます。"
   ]
  },
  {
   "cell_type": "code",
   "execution_count": null,
   "metadata": {
    "id": "qJ8xKrOYf76Z"
   },
   "outputs": [],
   "source": [
    "res_add = tp.addplot(df_add)\n",
    "\n",
    "# addplotの結果から座標データを取得\n",
    "if isinstance(res_add, dict) and 'xyData' in res_add:\n",
    "    res_add_coords = res_add['xyData']\n",
    "    print(f\"異常度判定: {res_add.get('abnormalityStatus', 'unknown')}\")\n",
    "    if res_add.get('abnormalityScore') is not None:\n",
    "        print(f\"異常度スコア: {res_add.get('abnormalityScore')}\")\n",
    "else:\n",
    "    res_add_coords = res_add  # 従来形式の場合\n",
    "\n",
    "res_add_coords"
   ]
  },
  {
   "cell_type": "code",
   "execution_count": null,
   "metadata": {},
   "outputs": [],
   "source": [
    "# 追加プロットのshareURLを表示\n",
    "if hasattr(tp, 'shareUrl') and tp.shareUrl:\n",
    "    from IPython.display import display, HTML\n",
    "    print(\"追加プロット結果の共有URL:\")\n",
    "    display(HTML(f'<a href=\"{tp.shareUrl}\" target=\"_blank\">{tp.shareUrl}</a>'))\n",
    "else:\n",
    "    print(\"ShareURLが取得できませんでした\")"
   ]
  },
  {
   "cell_type": "code",
   "execution_count": null,
   "metadata": {
    "id": "dF3lAz-XaMJD"
   },
   "outputs": [],
   "source": [
    "plt.scatter(res[:,0], res[:,1], label='Base Map')\n",
    "plt.scatter(res_add_coords[:,0], res_add_coords[:,1], label='Additional Plot')\n",
    "plt.legend()\n",
    "plt.show()"
   ]
  },
  {
   "cell_type": "markdown",
   "metadata": {
    "id": "iTJZh62agSlt"
   },
   "source": [
    "## 補足：ベースマップのID番号の取得\n",
    "\n",
    "`tp.fit_transform()`関数でベースマップを作成した直後に、そのベースマップのID番号を取得しておくことで、あとで、特定のベースマップに対して追加プロットをすることができます。"
   ]
  },
  {
   "cell_type": "code",
   "execution_count": null,
   "metadata": {
    "id": "PkbIpja1aUTk"
   },
   "outputs": [],
   "source": [
    "# ベースマップの作成と、ベースマップID番号の取得\n",
    "res = tp.fit_transform(df)\n",
    "print(\"toorPIA Map ID No: \", tp.mapNo)\n",
    "\n",
    "# ベースマップID番号を指定して追加プロット\n",
    "add_res = tp.addplot(df_add, tp.mapNo)"
   ]
  },
  {
   "cell_type": "code",
   "execution_count": null,
   "metadata": {},
   "outputs": [],
   "source": [
    "plt.scatter(res[:,0], res[:,1], label='Base Map')\n",
    "plt.scatter(res_add_coords[:,0], res_add_coords[:,1], label='Additional Plot')\n",
    "plt.legend()\n",
    "plt.show()"
   ]
  }
 ],
 "metadata": {
  "colab": {
   "authorship_tag": "ABX9TyM4KfUX4FxHOtcc+C31WW/A",
   "provenance": []
  },
  "kernelspec": {
   "display_name": "Python 3",
   "name": "python3"
  },
  "language_info": {
   "codemirror_mode": {
    "name": "ipython",
    "version": 3
   },
   "file_extension": ".py",
   "mimetype": "text/x-python",
   "name": "python",
   "nbconvert_exporter": "python",
   "pygments_lexer": "ipython3",
   "version": "3.10.12"
  }
 },
 "nbformat": 4,
 "nbformat_minor": 0
}